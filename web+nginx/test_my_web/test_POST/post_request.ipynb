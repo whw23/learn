{
 "cells": [
  {
   "cell_type": "code",
   "execution_count": 1,
   "metadata": {},
   "outputs": [
    {
     "name": "stdout",
     "output_type": "stream",
     "text": [
      "api_key:  123456\n",
      "device_connection_string:  ABCDEFG\n",
      "response.status_code:  200\n",
      "response.text:  ok\n"
     ]
    }
   ],
   "source": [
    "# 写一个post request用于register device\n",
    "import requests\n",
    "import json\n",
    "import os\n",
    "\n",
    "api_key = os.environ.get(\"API_KEY\")\n",
    "device_connection_string = os.environ.get(\"DEVICE_CONNECTION_STRING\")\n",
    "print(\"api_key: \", api_key)\n",
    "print(\"device_connection_string: \", device_connection_string)\n",
    "url = \"http://localhost:5000/register_device\"\n",
    "\n",
    "headers = {\n",
    "    \"api-key\": api_key,\n",
    "    \"device-id\": \"device_1\",\n",
    "    \"device-connection-string\": device_connection_string,\n",
    "}\n",
    "\n",
    "response_register = requests.post(url, headers=headers)\n",
    "\n",
    "print(\"response.status_code: \", response_register.status_code)\n",
    "print(\"response.text: \", response_register.text)"
   ]
  },
  {
   "cell_type": "code",
   "execution_count": 2,
   "metadata": {},
   "outputs": [
    {
     "name": "stdout",
     "output_type": "stream",
     "text": [
      "{'name': 'xiaoming', 'age': 18, 'gender': 'male', 'registered': True}\n",
      "response.status_code:  200\n",
      "response.text:  post data success\n"
     ]
    }
   ],
   "source": [
    "# 写一个post request用于发送消息\n",
    "import requests\n",
    "import json\n",
    "\n",
    "url = \"http://localhost:5000/post_data\"\n",
    "data = {\"name\": \"xiaoming\", \"age\": 18, \"gender\": \"male\", \"registered\": True}\n",
    "headers = {\"Content-Type\": \"application/json\", \"api-key\": \"123456\"}\n",
    "\n",
    "print(data)\n",
    "response = requests.post(url, data=data, headers=headers)\n",
    "\n",
    "# 尽可能详细的输出\n",
    "print(\"response.status_code: \", response.status_code)\n",
    "print(\"response.text: \", response.text)\n",
    "# print(response.headers)\n",
    "# print(response.cookies)\n",
    "# print(response.url)\n",
    "# print(response.request.headers)\n",
    "# print(response.request.body)\n",
    "# print(response.request.url)"
   ]
  }
 ],
 "metadata": {
  "kernelspec": {
   "display_name": "myenv",
   "language": "python",
   "name": "python3"
  },
  "language_info": {
   "codemirror_mode": {
    "name": "ipython",
    "version": 3
   },
   "file_extension": ".py",
   "mimetype": "text/x-python",
   "name": "python",
   "nbconvert_exporter": "python",
   "pygments_lexer": "ipython3",
   "version": "3.10.13"
  }
 },
 "nbformat": 4,
 "nbformat_minor": 2
}
