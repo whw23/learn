{
 "cells": [
  {
   "cell_type": "code",
   "execution_count": 1,
   "id": "f2b3268c",
   "metadata": {},
   "outputs": [
    {
     "name": "stdout",
     "output_type": "stream",
     "text": [
      "线程运行中...\n",
      "线程运行中...\n",
      "线程运行中...\n",
      "线程已退出\n",
      "主线程结束\n"
     ]
    }
   ],
   "source": [
    "import threading\n",
    "import time\n",
    "\n",
    "class MyThread(threading.Thread):\n",
    "    def __init__(self):\n",
    "        super().__init__()\n",
    "        self.running = True  # 标志位：True 表示运行，False 表示退出\n",
    "\n",
    "    def run(self):\n",
    "        # 线程执行的核心逻辑\n",
    "        while self.running:  # 定期检查标志位\n",
    "            print(\"线程运行中...\")\n",
    "            time.sleep(1)  # 模拟工作\n",
    "        print(\"线程已退出\")\n",
    "\n",
    "# 创建并启动线程\n",
    "t = MyThread()\n",
    "t.start()\n",
    "\n",
    "# 主线程运行 3 秒后，通知子线程退出\n",
    "time.sleep(3)\n",
    "t.running = False  # 设置标志位，让子线程退出\n",
    "t.join()  # 等待子线程完全结束\n",
    "print(\"主线程结束\")"
   ]
  },
  {
   "cell_type": "code",
   "execution_count": 4,
   "id": "dbb2ceaf",
   "metadata": {},
   "outputs": [
    {
     "name": "stdout",
     "output_type": "stream",
     "text": [
      "线程运行中...\n",
      "线程运行中...\n",
      "线程运行中...\n",
      "主线程结束\n"
     ]
    }
   ],
   "source": [
    "import threading\n",
    "import time\n",
    "\n",
    "running = True  # 全局标志位\n",
    "def keep_running():\n",
    "    while running:\n",
    "        print(\"线程运行中...\")\n",
    "        time.sleep(1)\n",
    "\n",
    "t = threading.Thread(target=keep_running)\n",
    "t.start()\n",
    "\n",
    "# 主线程运行 3 秒后，通知子线程退出\n",
    "time.sleep(3)\n",
    "running = False  # 修改全局标志位\n",
    "t.join()  # 等待子线程完全结束\n",
    "print(\"主线程结束\")"
   ]
  }
 ],
 "metadata": {
  "kernelspec": {
   "display_name": "myenv",
   "language": "python",
   "name": "python3"
  },
  "language_info": {
   "codemirror_mode": {
    "name": "ipython",
    "version": 3
   },
   "file_extension": ".py",
   "mimetype": "text/x-python",
   "name": "python",
   "nbconvert_exporter": "python",
   "pygments_lexer": "ipython3",
   "version": "3.11.13"
  }
 },
 "nbformat": 4,
 "nbformat_minor": 5
}
