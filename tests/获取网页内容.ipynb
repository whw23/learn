{
 "cells": [
  {
   "cell_type": "code",
   "execution_count": null,
   "metadata": {},
   "outputs": [],
   "source": [
    "# !pip install beautifulsoup4\n",
    "# !pip install lxml"
   ]
  },
  {
   "cell_type": "markdown",
   "metadata": {},
   "source": [
    "### html.parser\n",
    "内置于Python标准库：无需安装额外的库，开箱即用。\n",
    "\n",
    "纯Python实现：解析速度较慢，适合简单的HTML解析任务。\n",
    "\n",
    "宽容性：能够处理一些格式不太规范的HTML文档，但在处理复杂的HTML结构时可能会遇到困难。"
   ]
  },
  {
   "cell_type": "code",
   "execution_count": 6,
   "metadata": {},
   "outputs": [],
   "source": [
    "import requests\n",
    "from bs4 import BeautifulSoup\n",
    "\n",
    "def get_webpage_content1(url):\n",
    "    response = requests.get(url)\n",
    "    if response.status_code == 200:\n",
    "        soup = BeautifulSoup(response.content, 'html.parser')\n",
    "        return soup.get_text()\n",
    "    else:\n",
    "        return None"
   ]
  },
  {
   "cell_type": "markdown",
   "metadata": {},
   "source": [
    "### lxml\n",
    "第三方库：需要单独安装，可以通过pip install lxml命令安装。\n",
    "\n",
    "C语言实现：解析速度非常快，适合大规模和复杂的HTML文档解析。\n",
    "\n",
    "功能强大：除了HTML解析，还支持XML解析，提供了更多的功能和灵活性。\n",
    "\n",
    "宽容性：同样能够处理格式不规范的HTML文档，但在性能和功能上比html.parser更强大。"
   ]
  },
  {
   "cell_type": "code",
   "execution_count": 5,
   "metadata": {},
   "outputs": [],
   "source": [
    "from bs4 import BeautifulSoup\n",
    "import requests\n",
    "def get_webpage_content2(url):\n",
    "    response = requests.get(url)\n",
    "    if response.status_code == 200:\n",
    "        soup = BeautifulSoup(response.content, 'lxml')\n",
    "        return soup.prettify()\n",
    "    else:\n",
    "        return None\n"
   ]
  },
  {
   "cell_type": "code",
   "execution_count": null,
   "metadata": {},
   "outputs": [
    {
     "data": {
      "text/plain": [
       "'<!DOCTYPE html>\\n<html lang=\"en\">\\n <head>\\n  <meta charset=\"utf-8\"/>\\n  <title>\\n   Personal resume\\n  </title>\\n  <meta content=\"IE=Edge\" http-equiv=\"X-UA-Compatible\"/>\\n  <meta content=\"width=device-width, initial-scale=1\" name=\"viewport\"/>\\n  <meta content=\"\" name=\"keywords\"/>\\n  <meta content=\"\" name=\"description\"/>\\n  <!-- stylesheet css -->\\n  <link href=\"css/bootstrap.min.css\" rel=\"stylesheet\"/>\\n  <link href=\"css/font-awesome.min.css\" rel=\"stylesheet\"/>\\n  <link href=\"css/templatemo-blue.css\" rel=\"stylesheet\"/>\\n </head>\\n <body data-spy=\"scroll\" data-target=\".navbar-collapse\">\\n  <!-- preloader section -->\\n  <div class=\"preloader\">\\n   <div class=\"sk-spinner sk-spinner-wordpress\">\\n    <span class=\"sk-inner-circle\">\\n    </span>\\n   </div>\\n  </div>\\n  <!-- header section -->\\n  <header>\\n   <div class=\"container\">\\n    <div class=\"row\">\\n     <div class=\"col-md-12 col-sm12\">\\n      <img alt=\"templatemo easy profile\" class=\"img-responsive img-circle tm-border\" src=\"images/tm-easy-profile.jpg\"/>\\n      <hr/>\\n      <h1 class=\"tm-title bold shadow\">\\n       Hi, I am Haowei WANG\\n      </h1>\\n      <h1 class=\"white bold shadow\">\\n       Programmer, engineer\\n      </h1>\\n     </div>\\n    </div>\\n   </div>\\n  </header>\\n  <!-- about and skills section -->\\n  <section class=\"container\">\\n   <div class=\"row\">\\n    <div class=\"col-md-12 col-sm-12\">\\n     <div class=\"experience\">\\n      <h2 class=\"black\">\\n       Working Experiences\\n      </h2>\\n      <div class=\"experience-content\">\\n       <h4 class=\"experience-title accent\">\\n        Technical Support Engineer\\n       </h4>\\n       <h5>\\n        <strong>\\n         Microsoft\\n        </strong>\\n       </h5>\\n       <span>\\n       </span>\\n       <h5>\\n        2023 July - Now\\n       </h5>\\n       <p class=\"education-description\">\\n        Work in Azure AI/IoT support team, responsible for technical\\r\\n\\t\\t\\t\\t\\t\\t\\tsupport of Azure openai, Azure cognitive service, and Azure IoT products.\\n       </p>\\n      </div>\\n      <div class=\"experience-content\">\\n       <h4 class=\"experience-title accent\">\\n        Data Analysis and Data Visualization Engineer\\n       </h4>\\n       <h5>\\n        <strong>\\n         Shanghai Zhongmi Technology Co., Ltd.\\n        </strong>\\n       </h5>\\n       <span>\\n       </span>\\n       <h5>\\n        2023 February - 2023 July\\n       </h5>\\n       <p class=\"education-description\">\\n        Zhongmi Technology Human Resources Management System\\n        <br/>\\n        1. Data integration, data migration through ETL tools (kettle), etc.\\n        <br/>\\n        2. Deploy Superset through docker, perform data visualization through Superset, and generate\\r\\n\\t\\t\\t\\t\\t\\t\\tleadership desktops.\\n        <br/>\\n        3. Superset secondary development, editing custom plug-ins, react component-oriented\\r\\n\\t\\t\\t\\t\\t\\t\\tprogramming to create Superset plug-ins based on Echarts Baidu Map.\\n        <br/>\\n        Here I learned the use of Superset, kettle (ETL), docker, front-end knowledge related to\\r\\n\\t\\t\\t\\t\\t\\t\\treact, and data visualization knowledge related to echarts.\\n       </p>\\n      </div>\\n      <div class=\"experience-content\">\\n       <h4 class=\"experience-title accent\">\\n        Java Development Engineer\\n       </h4>\\n       <h5>\\n        <strong>\\n         Neusoft\\n        </strong>\\n       </h5>\\n       <span>\\n       </span>\\n       <h5>\\n        2019 June - 2019 August\\n       </h5>\\n       <p class=\"education-description\">\\n        Participated in the Bank of China global human resources\\r\\n\\t\\t\\t\\t\\t\\t\\tmanagement system project and was responsible for the development of non-bank staff modules,\\r\\n\\t\\t\\t\\t\\t\\t\\tincluding back-end development and part of the front-end development. Project software and\\r\\n\\t\\t\\t\\t\\t\\t\\thardware environment: java, Oracle data Libraries, Websphere middleware, struts framework.\\n        <br/>\\n        Here I learned and enriched my knowledge\\r\\n\\t\\t\\t\\t\\t\\t\\tabout java back-end development and human resources management system.\\n       </p>\\n      </div>\\n     </div>\\n    </div>\\n   </div>\\n  </section>\\n  <section class=\"container\">\\n   <div class=\"row\">\\n    <div class=\"col-md-6 col-sm-12\">\\n     <div class=\"skills\">\\n      <h2 class=\"white\">\\n       Skills\\n      </h2>\\n      <p>\\n       <strong>\\n        Operating system:\\n       </strong>\\n       Windows, Linux (ubuntu, centos, WSL, etc.)\\n       <br/>\\n       <strong>\\n        Database:\\n       </strong>\\n       MySQL, SQLserver, PostgreSQL, MongoDB, OrbitDB, Neo4j, etc.; data\\r\\n\\t\\t\\t\\t\\t\\tintegration (ETL):\\r\\n\\t\\t\\t\\t\\t\\tKettle, Talend\\n       <br/>\\n       <strong>\\n        Middleware:\\n       </strong>\\n       nginx, tomcat\\n       <br/>\\n       <strong>\\n        Programming language:\\n       </strong>\\n       Java (eclipse, IntelliJ IDEA), Python, C++\\n       <br/>\\n       <strong>\\n        Data visualization:\\n       </strong>\\n       Tableau, Superset, Fanruan, d3 (Observable notebook),\\r\\n\\t\\t\\t\\t\\t\\tEcharts, etc.\\n       <br/>\\n       <strong>\\n        Environment deployment:\\n       </strong>\\n       conda, docker\\n       <br/>\\n       <strong>\\n        Machine learning:\\n       </strong>\\n       jupiter (anaconda, vscode); tensorflow, pytorch, keras,\\r\\n\\t\\t\\t\\t\\t\\tneural network (CNN,\\r\\n\\t\\t\\t\\t\\t\\tRNN, LSTM, autoencoder), NLP,\\r\\n\\t\\t\\t\\t\\t\\tword2vec, deep Q-Learning, etc.\\n      </p>\\n     </div>\\n    </div>\\n    <div class=\"col-md-6 col-sm-12\">\\n     <div class=\"languages\">\\n      <h2 class=\"black\">\\n       Languages\\n      </h2>\\n      <strong>\\n       Chinese\\n      </strong>\\n      <span class=\"pull-right\">\\n       Mother tongue\\n      </span>\\n      <div class=\"progress\">\\n       <div aria-valuemax=\"100\" aria-valuemin=\"0\" aria-valuenow=\"100\" class=\"progress-bar progress-bar-primary\" role=\"progressbar\" style=\"width: 100%;\">\\n       </div>\\n      </div>\\n      <strong>\\n       English\\n      </strong>\\n      <span class=\"pull-right\">\\n       More than 12 years studies\\n      </span>\\n      <div class=\"progress\">\\n       <div aria-valuemax=\"100\" aria-valuemin=\"0\" aria-valuenow=\"80\" class=\"progress-bar progress-bar-primary\" role=\"progressbar\" style=\"width: 80%;\">\\n       </div>\\n      </div>\\n      <strong>\\n       French\\n      </strong>\\n      <span class=\"pull-right\">\\n       Studying in France for 6 years\\n      </span>\\n      <div class=\"progress\">\\n       <div aria-valuemax=\"100\" aria-valuemin=\"0\" aria-valuenow=\"80\" class=\"progress-bar progress-bar-primary\" role=\"progressbar\" style=\"width: 80%;\">\\n       </div>\\n      </div>\\n     </div>\\n    </div>\\n   </div>\\n  </section>\\n  <div class=\"copyrights\">\\n   Collect from\\n   <a href=\"https://www.webmoban.net\">\\n    企业网站模板\\n   </a>\\n  </div>\\n  <!-- education and languages -->\\n  <section class=\"container\">\\n   <div class=\"row\">\\n    <div class=\"col-md-8 col-sm-12\">\\n     <div class=\"education\">\\n      <h2 class=\"white\">\\n       Education\\n      </h2>\\n      <div class=\"education-content\">\\n       <h4 class=\"education-title accent\">\\n        Informatiques - Data Science (Master Degree)\\n       </h4>\\n       <div class=\"education-school\">\\n        <h5>\\n         Université Claude Bernard Lyon 1\\n        </h5>\\n        <br/>\\n        <h5>\\n         2021 September - 2023 July\\n        </h5>\\n       </div>\\n       <p class=\"education-description\">\\n        Major:\\n       </p>\\n       <p class=\"education-description\">\\n        Basics of data science, basics of artificial intelligence,\\r\\n\\t\\t\\t\\t\\t\\t\\tmachine learning (ML), natural language processing (NLP), deep learning, data mining, big\\r\\n\\t\\t\\t\\t\\t\\t\\tdata analysis, data visualization, probability graphs\\r\\n\\t\\t\\t\\t\\t\\t\\tmodels, inferential statistics, regression models, parallel computing, game theory,\\r\\n\\t\\t\\t\\t\\t\\t\\tcryptography and security, etc.\\n       </p>\\n       <h4 class=\"education-title accent\">\\n        Informatiques (Bachelor Degree)\\n       </h4>\\n       <div class=\"education-school\">\\n        <h5>\\n         Université de technologie de Compiègne, Université d\\'Amiens, Université Claude Bernard\\r\\n\\t\\t\\t\\t\\t\\t\\t\\tLyon 1\\n        </h5>\\n        <br/>\\n        <h5>\\n         2017 February - 2021 July\\n        </h5>\\n       </div>\\n       <!-- <p class=\"education-description\">This is a description of my school.</p> -->\\n      </div>\\n     </div>\\n    </div>\\n    <div class=\"row\">\\n     <div class=\"col-md-4 col-sm-12\">\\n      <div class=\"contact\">\\n       <h2>\\n        Contact\\n       </h2>\\n       <p>\\n        <i class=\"fa fa-map-marker\">\\n        </i>\\n        Shanghai\\n       </p>\\n       <p>\\n        <i class=\"fa fa-phone\">\\n        </i>\\n        ***\\n       </p>\\n       <p>\\n        <i class=\"fa fa-envelope\">\\n        </i>\\n        ***\\n       </p>\\n       <p>\\n        <i class=\"fa fa-globe\">\\n        </i>\\n        <a href=\"https://haowei-wang.work\">\\n         haowei-wang.work\\n        </a>\\n       </p>\\n       <p>\\n        <i class=\"fa fa-github\">\\n        </i>\\n        <a href=\"https://github.com/whw23\">\\n         github.com/whw23\\n        </a>\\n       </p>\\n       <p>\\n        <i class=\"fa fa-globe\">\\n        </i>\\n        <a href=\"https://blog.csdn.net/weixin_43219396/article/details/130271278\">\\n         csdn superset\\r\\n\\t\\t\\t\\t\\t\\t\\t\\tdocker blog\\n        </a>\\n       </p>\\n      </div>\\n     </div>\\n     <div class=\"col-md-8 col-sm-12\">\\n     </div>\\n    </div>\\n   </div>\\n  </section>\\n  <!-- footer section -->\\n  <footer>\\n   <div class=\"container\">\\n    <div class=\"row\">\\n     <div class=\"col-md-12 col-sm-12\">\\n      <!-- \\r\\n\\t\\t\\t\\t<p>Copyright &copy; 2084 Your Easy Profile. More Templates <a href=\"https://www.webmoban.net\" target=\"_blank\" title=\"网站模板\">网站模板</a> - Collect from <a href=\"https://www.webmoban.net\" title=\"网页模板\" target=\"_blank\">网页模板</a></p>\\r\\n\\t\\t\\t\\t-->\\n      <a href=\"https://beian.miit.gov.cn/\" style=\"background-color: #FFFFFF;\">\\n       公安备案号位置\\n      </a>\\n      <a href=\"https://beian.miit.gov.cn/\" style=\"background-color: #FFFFFF;\">\\n       辽ICP备2022006882号-1\\n      </a>\\n      <ul class=\"social-icons\">\\n       <!-- <li><a href=\"#\" class=\"fa fa-facebook\"></a></li> -->\\n       <!-- <li><a href=\"#\" class=\"fa fa-google-plus\"></a></li> -->\\n       <!-- <li><a href=\"#\" class=\"fa fa-twitter\"></a></li> -->\\n       <!-- <li><a href=\"#\" class=\"fa fa-dribbble\"></a></li> -->\\n       <li>\\n        <a class=\"fa fa-github\" href=\"https://github.com/whw23\">\\n        </a>\\n       </li>\\n       <!-- <li><a href=\"#\" class=\"fa fa-behance\"></a></li> -->\\n      </ul>\\n     </div>\\n    </div>\\n   </div>\\n  </footer>\\n  <!-- javascript js -->\\n  <script src=\"js/jquery.js\">\\n  </script>\\n  <script src=\"js/bootstrap.min.js\">\\n  </script>\\n  <script src=\"js/jquery.backstretch.min.js\">\\n  </script>\\n  <script src=\"js/custom.js\">\\n  </script>\\n </body>\\n</html>\\n'"
      ]
     },
     "execution_count": 8,
     "metadata": {},
     "output_type": "execute_result"
    }
   ],
   "source": [
    "get_webpage_content2('https://www.google.com')"
   ]
  }
 ],
 "metadata": {
  "kernelspec": {
   "display_name": "myenv",
   "language": "python",
   "name": "python3"
  },
  "language_info": {
   "codemirror_mode": {
    "name": "ipython",
    "version": 3
   },
   "file_extension": ".py",
   "mimetype": "text/x-python",
   "name": "python",
   "nbconvert_exporter": "python",
   "pygments_lexer": "ipython3",
   "version": "3.10.14"
  }
 },
 "nbformat": 4,
 "nbformat_minor": 2
}
