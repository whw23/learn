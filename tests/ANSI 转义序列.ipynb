{
 "cells": [
  {
   "cell_type": "markdown",
   "metadata": {},
   "source": [
    "https://www.cnblogs.com/chargedcreeper/p/-/ANSI\n",
    "https://blog.csdn.net/ScilogyHunter/article/details/106874395"
   ]
  },
  {
   "cell_type": "code",
   "execution_count": 30,
   "metadata": {},
   "outputs": [
    {
     "name": "stdout",
     "output_type": "stream",
     "text": [
      "123456\n",
      "12345\n",
      "023456\n",
      "\u001b[1m123456\n",
      "abcdefg\n"
     ]
    }
   ],
   "source": [
    "import sys\n",
    "import time\n",
    "\n",
    "# 示例：删除前一个字符\n",
    "str=\"123456\"\n",
    "print(str)\n",
    "\n",
    "# 删除前一个字符\n",
    "print(str+\"\\b\")\n",
    "\n",
    "# 光标移动到行首\n",
    "print(str+\"\\r\"+\"0\")\n",
    "# 加粗\n",
    "str1 = \"\\033[1m\"+str\n",
    "print(str1)\n",
    "\n",
    "# \n",
    "str2 = \"abcd\\177efg\"\n",
    "print(\"abcd\\0x7fefg\")"
   ]
  }
 ],
 "metadata": {
  "kernelspec": {
   "display_name": "myenv",
   "language": "python",
   "name": "python3"
  },
  "language_info": {
   "codemirror_mode": {
    "name": "ipython",
    "version": 3
   },
   "file_extension": ".py",
   "mimetype": "text/x-python",
   "name": "python",
   "nbconvert_exporter": "python",
   "pygments_lexer": "ipython3",
   "version": "3.10.14"
  }
 },
 "nbformat": 4,
 "nbformat_minor": 2
}
